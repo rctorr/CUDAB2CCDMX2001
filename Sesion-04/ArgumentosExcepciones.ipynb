{
 "cells": [
  {
   "cell_type": "markdown",
   "metadata": {},
   "source": [
    "# Argumentos y exepciones"
   ]
  },
  {
   "cell_type": "markdown",
   "metadata": {},
   "source": [
    "## Ejemplo: Crear el script csvtojson.py que lea el nombre de un archivo proporcionado por el usuaro en formato CSV y lo transforme en un formato JSON"
   ]
  },
  {
   "cell_type": "code",
   "execution_count": 1,
   "metadata": {},
   "outputs": [],
   "source": [
    "import os"
   ]
  },
  {
   "cell_type": "code",
   "execution_count": 2,
   "metadata": {},
   "outputs": [
    {
     "data": {
      "text/plain": [
       "\u001b[0;31mSignature:\u001b[0m \u001b[0mos\u001b[0m\u001b[0;34m.\u001b[0m\u001b[0mpath\u001b[0m\u001b[0;34m.\u001b[0m\u001b[0msplitext\u001b[0m\u001b[0;34m(\u001b[0m\u001b[0mp\u001b[0m\u001b[0;34m)\u001b[0m\u001b[0;34m\u001b[0m\u001b[0;34m\u001b[0m\u001b[0m\n",
       "\u001b[0;31mDocstring:\u001b[0m\n",
       "Split the extension from a pathname.\n",
       "\n",
       "Extension is everything from the last dot to the end, ignoring\n",
       "leading dots.  Returns \"(root, ext)\"; ext may be empty.\n",
       "\u001b[0;31mFile:\u001b[0m      ~/miniconda3/lib/python3.7/posixpath.py\n",
       "\u001b[0;31mType:\u001b[0m      function\n"
      ]
     },
     "metadata": {},
     "output_type": "display_data"
    }
   ],
   "source": [
    "os.path.splitext?"
   ]
  },
  {
   "cell_type": "code",
   "execution_count": 3,
   "metadata": {},
   "outputs": [
    {
     "data": {
      "text/plain": [
       "('salida', '.txt')"
      ]
     },
     "execution_count": 3,
     "metadata": {},
     "output_type": "execute_result"
    }
   ],
   "source": [
    "os.path.splitext(\"salida.txt\")"
   ]
  },
  {
   "cell_type": "code",
   "execution_count": 4,
   "metadata": {},
   "outputs": [],
   "source": [
    "import csv"
   ]
  },
  {
   "cell_type": "code",
   "execution_count": 6,
   "metadata": {},
   "outputs": [
    {
     "data": {
      "text/plain": [
       "\u001b[0;31mDocstring:\u001b[0m\n",
       "csv_reader = reader(iterable [, dialect='excel']\n",
       "                        [optional keyword args])\n",
       "    for row in csv_reader:\n",
       "        process(row)\n",
       "\n",
       "The \"iterable\" argument can be any object that returns a line\n",
       "of input for each iteration, such as a file object or a list.  The\n",
       "optional \"dialect\" parameter is discussed below.  The function\n",
       "also accepts optional keyword arguments which override settings\n",
       "provided by the dialect.\n",
       "\n",
       "The returned object is an iterator.  Each iteration returns a row\n",
       "of the CSV file (which can span multiple input lines).\n",
       "\u001b[0;31mType:\u001b[0m      builtin_function_or_method\n"
      ]
     },
     "metadata": {},
     "output_type": "display_data"
    }
   ],
   "source": [
    "csv.reader?"
   ]
  },
  {
   "cell_type": "code",
   "execution_count": 7,
   "metadata": {},
   "outputs": [],
   "source": [
    "import json"
   ]
  },
  {
   "cell_type": "code",
   "execution_count": 8,
   "metadata": {},
   "outputs": [
    {
     "data": {
      "text/plain": [
       "\u001b[0;31mSignature:\u001b[0m\n",
       "\u001b[0mjson\u001b[0m\u001b[0;34m.\u001b[0m\u001b[0mdump\u001b[0m\u001b[0;34m(\u001b[0m\u001b[0;34m\u001b[0m\n",
       "\u001b[0;34m\u001b[0m    \u001b[0mobj\u001b[0m\u001b[0;34m,\u001b[0m\u001b[0;34m\u001b[0m\n",
       "\u001b[0;34m\u001b[0m    \u001b[0mfp\u001b[0m\u001b[0;34m,\u001b[0m\u001b[0;34m\u001b[0m\n",
       "\u001b[0;34m\u001b[0m    \u001b[0;34m*\u001b[0m\u001b[0;34m,\u001b[0m\u001b[0;34m\u001b[0m\n",
       "\u001b[0;34m\u001b[0m    \u001b[0mskipkeys\u001b[0m\u001b[0;34m=\u001b[0m\u001b[0;32mFalse\u001b[0m\u001b[0;34m,\u001b[0m\u001b[0;34m\u001b[0m\n",
       "\u001b[0;34m\u001b[0m    \u001b[0mensure_ascii\u001b[0m\u001b[0;34m=\u001b[0m\u001b[0;32mTrue\u001b[0m\u001b[0;34m,\u001b[0m\u001b[0;34m\u001b[0m\n",
       "\u001b[0;34m\u001b[0m    \u001b[0mcheck_circular\u001b[0m\u001b[0;34m=\u001b[0m\u001b[0;32mTrue\u001b[0m\u001b[0;34m,\u001b[0m\u001b[0;34m\u001b[0m\n",
       "\u001b[0;34m\u001b[0m    \u001b[0mallow_nan\u001b[0m\u001b[0;34m=\u001b[0m\u001b[0;32mTrue\u001b[0m\u001b[0;34m,\u001b[0m\u001b[0;34m\u001b[0m\n",
       "\u001b[0;34m\u001b[0m    \u001b[0mcls\u001b[0m\u001b[0;34m=\u001b[0m\u001b[0;32mNone\u001b[0m\u001b[0;34m,\u001b[0m\u001b[0;34m\u001b[0m\n",
       "\u001b[0;34m\u001b[0m    \u001b[0mindent\u001b[0m\u001b[0;34m=\u001b[0m\u001b[0;32mNone\u001b[0m\u001b[0;34m,\u001b[0m\u001b[0;34m\u001b[0m\n",
       "\u001b[0;34m\u001b[0m    \u001b[0mseparators\u001b[0m\u001b[0;34m=\u001b[0m\u001b[0;32mNone\u001b[0m\u001b[0;34m,\u001b[0m\u001b[0;34m\u001b[0m\n",
       "\u001b[0;34m\u001b[0m    \u001b[0mdefault\u001b[0m\u001b[0;34m=\u001b[0m\u001b[0;32mNone\u001b[0m\u001b[0;34m,\u001b[0m\u001b[0;34m\u001b[0m\n",
       "\u001b[0;34m\u001b[0m    \u001b[0msort_keys\u001b[0m\u001b[0;34m=\u001b[0m\u001b[0;32mFalse\u001b[0m\u001b[0;34m,\u001b[0m\u001b[0;34m\u001b[0m\n",
       "\u001b[0;34m\u001b[0m    \u001b[0;34m**\u001b[0m\u001b[0mkw\u001b[0m\u001b[0;34m,\u001b[0m\u001b[0;34m\u001b[0m\n",
       "\u001b[0;34m\u001b[0m\u001b[0;34m)\u001b[0m\u001b[0;34m\u001b[0m\u001b[0;34m\u001b[0m\u001b[0m\n",
       "\u001b[0;31mDocstring:\u001b[0m\n",
       "Serialize ``obj`` as a JSON formatted stream to ``fp`` (a\n",
       "``.write()``-supporting file-like object).\n",
       "\n",
       "If ``skipkeys`` is true then ``dict`` keys that are not basic types\n",
       "(``str``, ``int``, ``float``, ``bool``, ``None``) will be skipped\n",
       "instead of raising a ``TypeError``.\n",
       "\n",
       "If ``ensure_ascii`` is false, then the strings written to ``fp`` can\n",
       "contain non-ASCII characters if they appear in strings contained in\n",
       "``obj``. Otherwise, all such characters are escaped in JSON strings.\n",
       "\n",
       "If ``check_circular`` is false, then the circular reference check\n",
       "for container types will be skipped and a circular reference will\n",
       "result in an ``OverflowError`` (or worse).\n",
       "\n",
       "If ``allow_nan`` is false, then it will be a ``ValueError`` to\n",
       "serialize out of range ``float`` values (``nan``, ``inf``, ``-inf``)\n",
       "in strict compliance of the JSON specification, instead of using the\n",
       "JavaScript equivalents (``NaN``, ``Infinity``, ``-Infinity``).\n",
       "\n",
       "If ``indent`` is a non-negative integer, then JSON array elements and\n",
       "object members will be pretty-printed with that indent level. An indent\n",
       "level of 0 will only insert newlines. ``None`` is the most compact\n",
       "representation.\n",
       "\n",
       "If specified, ``separators`` should be an ``(item_separator, key_separator)``\n",
       "tuple.  The default is ``(', ', ': ')`` if *indent* is ``None`` and\n",
       "``(',', ': ')`` otherwise.  To get the most compact JSON representation,\n",
       "you should specify ``(',', ':')`` to eliminate whitespace.\n",
       "\n",
       "``default(obj)`` is a function that should return a serializable version\n",
       "of obj or raise TypeError. The default simply raises TypeError.\n",
       "\n",
       "If *sort_keys* is true (default: ``False``), then the output of\n",
       "dictionaries will be sorted by key.\n",
       "\n",
       "To use a custom ``JSONEncoder`` subclass (e.g. one that overrides the\n",
       "``.default()`` method to serialize additional types), specify it with\n",
       "the ``cls`` kwarg; otherwise ``JSONEncoder`` is used.\n",
       "\u001b[0;31mFile:\u001b[0m      ~/miniconda3/lib/python3.7/json/__init__.py\n",
       "\u001b[0;31mType:\u001b[0m      function\n"
      ]
     },
     "metadata": {},
     "output_type": "display_data"
    }
   ],
   "source": [
    "json.dump?"
   ]
  },
  {
   "cell_type": "code",
   "execution_count": null,
   "metadata": {},
   "outputs": [],
   "source": []
  }
 ],
 "metadata": {
  "kernelspec": {
   "display_name": "Python 3",
   "language": "python",
   "name": "python3"
  },
  "language_info": {
   "codemirror_mode": {
    "name": "ipython",
    "version": 3
   },
   "file_extension": ".py",
   "mimetype": "text/x-python",
   "name": "python",
   "nbconvert_exporter": "python",
   "pygments_lexer": "ipython3",
   "version": "3.7.4"
  }
 },
 "nbformat": 4,
 "nbformat_minor": 4
}
