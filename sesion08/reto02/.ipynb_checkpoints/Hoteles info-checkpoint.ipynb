{
 "cells": [
  {
   "cell_type": "code",
   "execution_count": 19,
   "metadata": {},
   "outputs": [],
   "source": [
    "import numpy as np\n",
    "\n",
    "hoteles_data = np.genfromtxt('hoteles.csv', delimiter=',')\n",
    "hoteles_data = np.delete(hoteles_data, 0, 0)\n",
    "hoteles_data = np.delete(hoteles_data, 0, 1)\n",
    "\n",
    "nombres = []\n",
    "with open('hoteles.csv', 'r') as f:\n",
    "    linea = f.readline().split(',')[0]"
   ]
  },
  {
   "cell_type": "code",
   "execution_count": 44,
   "metadata": {},
   "outputs": [],
   "source": [
    "precios = hoteles_data[:, 0]\n",
    "calificaciones = hoteles_data[:, 1] \n",
    "precio_calif = precios / calificaciones"
   ]
  },
  {
   "cell_type": "code",
   "execution_count": 45,
   "metadata": {},
   "outputs": [
    {
     "name": "stdout",
     "output_type": "stream",
     "text": [
      "Mayor precio 29457.0\n",
      "Menor precio 839.0\n",
      "Media precio 3515.0\n",
      "\n",
      "Media calif 4.5\n",
      "Std calif 0.288\n",
      "\n",
      "Mayor calidad/precio: 839.0 4.0\n"
     ]
    }
   ],
   "source": [
    "mayor_precio = np.max(precios)\n",
    "menor_precio = np.min(precios)\n",
    "media_precio = np.median(precios)\n",
    "\n",
    "calif_media = np.median(calificaciones)\n",
    "calif_std = np.std(calificaciones)\n",
    "\n",
    "mayor_pc = np.argmin(precio_calif)\n",
    "\n",
    "print(\"Mayor precio\", mayor_precio)\n",
    "print(\"Menor precio\", menor_precio)\n",
    "print(\"Media precio\", media_precio)\n",
    "print(\"\")\n",
    "print(\"Media calif\", calif_media)\n",
    "print(\"Std calif {:.3f}\".format(calif_std))\n",
    "print(\"\")\n",
    "print(\"Mayor calidad/precio: {} {}\".format(precios[mayor_pc], calificaciones[mayor_pc]))"
   ]
  },
  {
   "cell_type": "code",
   "execution_count": 43,
   "metadata": {},
   "outputs": [
    {
     "data": {
      "text/plain": [
       "array([ 480.        ,  707.        ,  829.11111111,  628.5       ,\n",
       "       1301.        ,  606.66666667,  745.55555556,  561.55555556,\n",
       "        476.44444444,  638.25      , 1134.66666667,  530.25      ,\n",
       "        467.75      ,  797.11111111,  658.88888889,  589.11111111,\n",
       "        663.77777778, 1188.75      ,  630.66666667,  807.33333333,\n",
       "        569.55555556,  731.5       ,  682.5       , 1278.66666667,\n",
       "        684.75      ,  209.75      , 2529.4       , 5536.4       ,\n",
       "       5236.66666667, 4516.66666667,  458.22222222,  790.5       ,\n",
       "        437.5       , 1085.        ,  677.5       ,  824.88888889,\n",
       "        714.22222222,  714.22222222,  816.        , 1129.25      ,\n",
       "        830.5       , 1174.        ,  977.        ,  758.88888889,\n",
       "       1174.        ,  462.66666667,  510.5       ,  616.75      ,\n",
       "       1026.        ,  418.66666667,  428.        ,  645.77777778,\n",
       "        796.44444444,  957.25      ,  405.77777778,  934.        ,\n",
       "        476.25      , 1580.75      , 3534.8       , 4560.22222222,\n",
       "       1034.22222222,  574.22222222, 1047.75      ,  928.        ,\n",
       "        923.55555556,  775.55555556,  780.5       ,  763.77777778,\n",
       "       1146.22222222, 1348.44444444, 1217.5       , 1562.22222222,\n",
       "        675.        ,  702.        ,  864.        ,  618.        ,\n",
       "        810.        , 1001.5       ,  824.88888889, 1124.25      ,\n",
       "       1016.66666667,  662.75      ,  641.55555556,  439.77777778,\n",
       "        672.        , 1168.5       ,  643.25      , 1950.5       ,\n",
       "       2388.66666667, 1067.77777778,  500.75      ,  628.44444444,\n",
       "       1692.        ,  773.25      ,  919.77777778, 1517.11111111,\n",
       "        589.25      ,  676.25      ,  680.88888889,  506.6       ,\n",
       "        883.75      , 1239.33333333,  846.66666667,  698.22222222,\n",
       "        881.55555556, 1060.5       ,  552.22222222,  918.        ,\n",
       "        912.        ,  637.11111111, 1361.55555556,  566.88888889,\n",
       "        944.75      ,  899.5       ,  397.75      ,  562.22222222,\n",
       "        432.        ,  790.5       , 5891.4       , 4511.6       ,\n",
       "       1016.88888889,  575.55555556,  883.75      , 1357.11111111,\n",
       "       1104.5       ,  596.66666667,  746.75      ,  542.4       ,\n",
       "        695.        ,  878.75      ,  536.75      , 1082.        ,\n",
       "        955.77777778,  701.11111111,  519.33333333, 1192.        ,\n",
       "        967.75      ,  606.66666667, 1031.        ,  697.25      ,\n",
       "        731.5       ,  694.44444444,  624.        , 1117.75      ,\n",
       "        658.25      , 5302.2       , 2189.5       , 3989.11111111,\n",
       "       5282.6       , 1876.44444444,  628.44444444,  916.44444444,\n",
       "       1186.88888889,  781.11111111,  781.11111111,  585.11111111,\n",
       "        890.22222222, 1122.5       ,  912.        ,  451.55555556,\n",
       "        939.55555556, 1468.        ,  864.        ,  839.5       ,\n",
       "        648.        , 1237.25      ,  536.75      , 1026.        ,\n",
       "       1062.        ,  742.        ,  891.33333333,  746.75      ,\n",
       "        698.22222222,  844.44444444,  678.44444444,  932.75      ,\n",
       "       1302.5       ,  923.        ,  977.55555556,  834.75      ])"
      ]
     },
     "execution_count": 43,
     "metadata": {},
     "output_type": "execute_result"
    }
   ],
   "source": [
    "precios / calificaciones"
   ]
  }
 ],
 "metadata": {
  "kernelspec": {
   "display_name": "Python 3",
   "language": "python",
   "name": "python3"
  },
  "language_info": {
   "codemirror_mode": {
    "name": "ipython",
    "version": 3
   },
   "file_extension": ".py",
   "mimetype": "text/x-python",
   "name": "python",
   "nbconvert_exporter": "python",
   "pygments_lexer": "ipython3",
   "version": "3.6.8"
  }
 },
 "nbformat": 4,
 "nbformat_minor": 2
}
