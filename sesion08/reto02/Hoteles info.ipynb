{
 "cells": [
  {
   "cell_type": "code",
   "execution_count": 59,
   "metadata": {},
   "outputs": [],
   "source": [
    "import numpy as np\n",
    "\n",
    "hoteles_data = np.genfromtxt('hoteles.csv', delimiter=',')\n",
    "hoteles_data = np.delete(hoteles_data, 0, 0)\n",
    "hoteles_data = np.delete(hoteles_data, 0, 1)\n",
    "\n",
    "nombres = []\n",
    "with open('hoteles.csv', 'r') as f:\n",
    "    f.readline()\n",
    "    for row in f:\n",
    "        nombres.append(row.split(',')[0])"
   ]
  },
  {
   "cell_type": "code",
   "execution_count": 54,
   "metadata": {},
   "outputs": [],
   "source": [
    "precios = hoteles_data[:, 0]\n",
    "calificaciones = hoteles_data[:, 1] \n",
    "precio_calif = precios / calificaciones"
   ]
  },
  {
   "cell_type": "code",
   "execution_count": 62,
   "metadata": {},
   "outputs": [
    {
     "name": "stdout",
     "output_type": "stream",
     "text": [
      "Mayor precio: Le Bristol Paris 29457.0\n",
      "Menor precio: BVJ Opera Youth Hostel 839.0\n",
      "Media precio: 3515.0\n",
      "\n",
      "Media calif: 4.5\n",
      "Std calif: 0.288\n",
      "\n",
      "Mayor calidad/precio: BVJ Opera Youth Hostel 839.0 4.0\n"
     ]
    }
   ],
   "source": [
    "mayor_precio = np.max(precios)\n",
    "mayor_precio_idx = np.argmax(precios)\n",
    "menor_precio = np.min(precios)\n",
    "menor_precio_idx = np.argmin(precios)\n",
    "media_precio = np.median(precios)\n",
    "\n",
    "calif_media = np.median(calificaciones)\n",
    "calif_std = np.std(calificaciones)\n",
    "\n",
    "mayor_pc = np.argmin(precio_calif)\n",
    "\n",
    "print(\"Mayor precio:\", nombres[mayor_precio_idx], mayor_precio)\n",
    "print(\"Menor precio:\", nombres[menor_precio_idx], menor_precio)\n",
    "print(\"Media precio:\", media_precio)\n",
    "print(\"\")\n",
    "print(\"Media calif:\", calif_media)\n",
    "print(\"Std calif: {:.3f}\".format(calif_std))\n",
    "print(\"\")\n",
    "print(\"Mayor calidad/precio: {} {} {}\".format(nombres[mayor_pc], precios[mayor_pc], calificaciones[mayor_pc]))"
   ]
  },
  {
   "cell_type": "code",
   "execution_count": 60,
   "metadata": {},
   "outputs": [
    {
     "data": {
      "text/plain": [
       "180"
      ]
     },
     "execution_count": 60,
     "metadata": {},
     "output_type": "execute_result"
    }
   ],
   "source": [
    "len(nombres)"
   ]
  }
 ],
 "metadata": {
  "kernelspec": {
   "display_name": "Python 3",
   "language": "python",
   "name": "python3"
  },
  "language_info": {
   "codemirror_mode": {
    "name": "ipython",
    "version": 3
   },
   "file_extension": ".py",
   "mimetype": "text/x-python",
   "name": "python",
   "nbconvert_exporter": "python",
   "pygments_lexer": "ipython3",
   "version": "3.6.8"
  }
 },
 "nbformat": 4,
 "nbformat_minor": 2
}
