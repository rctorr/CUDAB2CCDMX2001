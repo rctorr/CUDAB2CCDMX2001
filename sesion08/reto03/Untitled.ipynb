{
 "cells": [
  {
   "cell_type": "code",
   "execution_count": 1,
   "metadata": {},
   "outputs": [],
   "source": [
    "%matplotlib inline\n",
    "import numpy as np\n",
    "import matplotlib.pyplot as plt"
   ]
  },
  {
   "cell_type": "code",
   "execution_count": 9,
   "metadata": {},
   "outputs": [],
   "source": [
    "hoteles = np.genfromtxt('hoteles.csv', delimiter=',')\n",
    "hoteles = hoteles[1:]\n",
    "hoteles = hoteles[:, 1]"
   ]
  },
  {
   "cell_type": "code",
   "execution_count": 15,
   "metadata": {},
   "outputs": [
    {
     "data": {
      "text/plain": [
       "{'whiskers': [<matplotlib.lines.Line2D at 0x7fee32607710>,\n",
       "  <matplotlib.lines.Line2D at 0x7fee32607a58>],\n",
       " 'caps': [<matplotlib.lines.Line2D at 0x7fee32607da0>,\n",
       "  <matplotlib.lines.Line2D at 0x7fee3261b128>],\n",
       " 'boxes': [<matplotlib.lines.Line2D at 0x7fee32607400>],\n",
       " 'medians': [<matplotlib.lines.Line2D at 0x7fee3261b470>],\n",
       " 'fliers': [],\n",
       " 'means': []}"
      ]
     },
     "execution_count": 15,
     "metadata": {},
     "output_type": "execute_result"
    },
    {
     "data": {
      "image/png": "[encoded data removed]",
      "text/plain": [
       "<Figure size 432x288 with 1 Axes>"
      ]
     },
     "metadata": {
      "needs_background": "light"
     },
     "output_type": "display_data"
    }
   ],
   "source": [
    "plt.title('Precios de hoteles')\n",
    "plt.ylabel('Precio en MXN')\n",
    "plt.boxplot(hoteles, showfliers=False)"
   ]
  }
 ],
 "metadata": {
  "kernelspec": {
   "display_name": "Python 3",
   "language": "python",
   "name": "python3"
  },
  "language_info": {
   "codemirror_mode": {
    "name": "ipython",
    "version": 3
   },
   "file_extension": ".py",
   "mimetype": "text/x-python",
   "name": "python",
   "nbconvert_exporter": "python",
   "pygments_lexer": "ipython3",
   "version": "3.6.8"
  }
 },
 "nbformat": 4,
 "nbformat_minor": 2
}
