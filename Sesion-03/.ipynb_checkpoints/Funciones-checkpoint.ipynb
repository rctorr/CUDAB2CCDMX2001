{
 "cells": [
  {
   "cell_type": "markdown",
   "metadata": {},
   "source": [
    "# Manipulando archivos desde Python\n",
    "## Obteniendo la lista de archivos de la carpeta actual e imprimirlos en la salida estándar.\n",
    "## Conociendo el módulo os"
   ]
  },
  {
   "cell_type": "code",
   "execution_count": 1,
   "metadata": {},
   "outputs": [],
   "source": [
    "import os"
   ]
  },
  {
   "cell_type": "code",
   "execution_count": 3,
   "metadata": {},
   "outputs": [
    {
     "data": {
      "text/plain": [
       "['Funciones.ipynb', '.ipynb_checkpoints']"
      ]
     },
     "execution_count": 3,
     "metadata": {},
     "output_type": "execute_result"
    }
   ],
   "source": [
    "os.listdir()"
   ]
  },
  {
   "cell_type": "code",
   "execution_count": 8,
   "metadata": {},
   "outputs": [
    {
     "data": {
      "text/plain": [
       "['dev',\n",
       " 'etc',\n",
       " 'root',\n",
       " 'mnt',\n",
       " 'media',\n",
       " 'srv',\n",
       " 'var',\n",
       " 'boot',\n",
       " 'vmlinuz',\n",
       " 'initrd.img',\n",
       " 'lib64',\n",
       " 'proc',\n",
       " 'initrd.img.old',\n",
       " 'sbin',\n",
       " 'tmp',\n",
       " 'bin',\n",
       " 'sys',\n",
       " 'opt',\n",
       " 'usr',\n",
       " 'lib',\n",
       " 'run',\n",
       " 'home',\n",
       " 'cdrom',\n",
       " 'snap',\n",
       " 'lost+found']"
      ]
     },
     "execution_count": 8,
     "metadata": {},
     "output_type": "execute_result"
    }
   ],
   "source": [
    "os.listdir(\"/\")  # \"/\" <- Windows"
   ]
  },
  {
   "cell_type": "code",
   "execution_count": 10,
   "metadata": {},
   "outputs": [
    {
     "name": "stdout",
     "output_type": "stream",
     "text": [
      "sesion04\n",
      "Sesion-02\n",
      "Sesion-01\n",
      "sesion03\n",
      ".git\n",
      "sesion01\n",
      "README.md\n",
      ".ipynb_checkpoints\n",
      ".gitignore\n",
      "Sesion-03\n",
      "sesion02\n"
     ]
    }
   ],
   "source": [
    "import os\n",
    "\n",
    "# Obteniendo la data\n",
    "ruta = \"/home/rctorr/python-analisis-datos\"\n",
    "entradas = os.listdir(ruta)\n",
    "\n",
    "# Imprimiendo resultados\n",
    "for e in entradas:\n",
    "    print(e)"
   ]
  },
  {
   "cell_type": "markdown",
   "metadata": {},
   "source": [
    "## Modificar el código anterior para agregar una columna con el tamaño en bytes de los elementos que son archivos, en el caso de las carpetas colocar 0."
   ]
  },
  {
   "cell_type": "code",
   "execution_count": 19,
   "metadata": {},
   "outputs": [
    {
     "name": "stdout",
     "output_type": "stream",
     "text": [
      "/home/rctorr/python-analisis-datos/sesion04                           0\n",
      "/home/rctorr/python-analisis-datos/Sesion-02                          0\n",
      "/home/rctorr/python-analisis-datos/Sesion-01                          0\n",
      "/home/rctorr/python-analisis-datos/sesion03                           0\n",
      "/home/rctorr/python-analisis-datos/.git                               0\n",
      "/home/rctorr/python-analisis-datos/sesion01                           0\n",
      "/home/rctorr/python-analisis-datos/README.md                        994\n",
      "/home/rctorr/python-analisis-datos/.ipynb_checkpoints                 0\n",
      "/home/rctorr/python-analisis-datos/datos.txt                         95\n",
      "/home/rctorr/python-analisis-datos/.gitignore                        21\n",
      "/home/rctorr/python-analisis-datos/Sesion-03                          0\n",
      "/home/rctorr/python-analisis-datos/sesion02                           0\n"
     ]
    }
   ],
   "source": [
    "import os\n",
    "\n",
    "## Obteniendo la data\n",
    "# Se obtiene el nombre de las entradas\n",
    "ruta = \"/home/rctorr/python-analisis-datos\"\n",
    "nombres = os.listdir(ruta)\n",
    "# Obtener el tamaño de cada uno de los elementos que\n",
    "# son archivos.\n",
    "# [\n",
    "#   [\"/home/rctorr/python-analisis-datos/archivo1\", 1234],\n",
    "#   [\"/home/rctorr/python-analisis-datos/archivo2\", 5678],\n",
    "#   ...\n",
    "# ]\n",
    "\n",
    "# Agregando ruta a los nombres\n",
    "# for i, n in enumerate(nombres):  # [(0, \"arch1\"), (1, \"arch2\"), ...]\n",
    "#    nombres[i] = os.path.join(ruta, n)\n",
    "nombres = [os.path.join(ruta, n) for n in nombres]\n",
    "\n",
    "entradas = []\n",
    "for n in nombres:\n",
    "    if os.path.isfile(n):  # path o ruta\n",
    "        # -obtener el tamaño de n-\n",
    "        # -agregarlo a la lista-\n",
    "        tamanio = os.path.getsize(n)\n",
    "        entrada = [n, tamanio]\n",
    "        entradas.append(entrada)\n",
    "    else:\n",
    "        # Entonces es un carpeta\n",
    "        # -asignar tamaño igual cero-\n",
    "        # -agregarlo a la lista-\n",
    "        entrada = [n, 0]\n",
    "        entradas.append(entrada)\n",
    "\n",
    "# Imprimiendo resultados\n",
    "for e in entradas:\n",
    "    print(\"{:60} {:10}\".format(*e))\n",
    "    "
   ]
  },
  {
   "cell_type": "code",
   "execution_count": 18,
   "metadata": {},
   "outputs": [
    {
     "data": {
      "text/plain": [
       "53"
      ]
     },
     "execution_count": 18,
     "metadata": {},
     "output_type": "execute_result"
    }
   ],
   "source": [
    "len(\"/home/rctorr/python-analisis-datos/.ipynb_checkpoints\")"
   ]
  },
  {
   "cell_type": "code",
   "execution_count": 22,
   "metadata": {},
   "outputs": [
    {
     "name": "stdout",
     "output_type": "stream",
     "text": [
      "Ángel 26\n",
      "Alejandro 54\n"
     ]
    }
   ],
   "source": [
    "def persona(nombre, edad):\n",
    "    print(nombre, edad)\n",
    "    \n",
    "persona(\"Ángel\", 26)\n",
    "persona(\"Alejandro\", 54)"
   ]
  },
  {
   "cell_type": "code",
   "execution_count": 23,
   "metadata": {},
   "outputs": [],
   "source": [
    "import os"
   ]
  },
  {
   "cell_type": "code",
   "execution_count": 24,
   "metadata": {},
   "outputs": [
    {
     "data": {
      "text/plain": [
       "['archivos.py', 'Funciones.ipynb', '.ipynb_checkpoints']"
      ]
     },
     "execution_count": 24,
     "metadata": {},
     "output_type": "execute_result"
    }
   ],
   "source": [
    "os.listdir()"
   ]
  },
  {
   "cell_type": "code",
   "execution_count": 33,
   "metadata": {},
   "outputs": [
    {
     "name": "stdout",
     "output_type": "stream",
     "text": [
      "archivos.py  Funciones.ipynb\n"
     ]
    }
   ],
   "source": [
    "!dir"
   ]
  },
  {
   "cell_type": "code",
   "execution_count": 44,
   "metadata": {},
   "outputs": [],
   "source": [
    "import archivos"
   ]
  },
  {
   "cell_type": "code",
   "execution_count": 45,
   "metadata": {},
   "outputs": [
    {
     "name": "stdout",
     "output_type": "stream",
     "text": [
      "/dev                                                                  0\n",
      "/etc                                                                  0\n",
      "/root                                                                 0\n",
      "/mnt                                                                  0\n",
      "/media                                                                0\n",
      "/srv                                                                  0\n",
      "/var                                                                  0\n",
      "/boot                                                                 0\n",
      "/vmlinuz                                                        8249080\n",
      "/initrd.img                                                    57917312\n",
      "/lib64                                                                0\n",
      "/proc                                                                 0\n",
      "/initrd.img.old                                                57917312\n",
      "/sbin                                                                 0\n",
      "/tmp                                                                  0\n",
      "/bin                                                                  0\n",
      "/sys                                                                  0\n",
      "/opt                                                                  0\n",
      "/usr                                                                  0\n",
      "/lib                                                                  0\n",
      "/run                                                                  0\n",
      "/home                                                                 0\n",
      "/cdrom                                                                0\n",
      "/snap                                                                 0\n",
      "/lost+found                                                           0\n"
     ]
    }
   ],
   "source": [
    "a = archivos.obtiene_entradas(\"/\")\n",
    "archivos.imprime_entradas(a)"
   ]
  },
  {
   "cell_type": "markdown",
   "metadata": {},
   "source": [
    "## RETO 1: Modificar el script archivos.py para que incluya una columna con las fechas de creación o la última modificación de la entrada"
   ]
  },
  {
   "cell_type": "markdown",
   "metadata": {},
   "source": [
    "## RETO 2: Incluir el total de bytes de todos los archivos de la carpeta al final de la lista."
   ]
  },
  {
   "cell_type": "markdown",
   "metadata": {},
   "source": [
    "## RETO 3: Imprime la lista de archivos de manera ordenada por nombre alfabéticamente."
   ]
  },
  {
   "cell_type": "markdown",
   "metadata": {},
   "source": [
    "## *RETO 4: Imprime la lista de archivos de manera ordenada por tamaño de archivo de forma descendente."
   ]
  },
  {
   "cell_type": "code",
   "execution_count": 46,
   "metadata": {},
   "outputs": [
    {
     "name": "stdout",
     "output_type": "stream",
     "text": [
      "archivos.py  Funciones.ipynb  __pycache__\n"
     ]
    }
   ],
   "source": [
    "!ls"
   ]
  },
  {
   "cell_type": "code",
   "execution_count": 49,
   "metadata": {},
   "outputs": [],
   "source": [
    "t = os.path.getmtime(\"archivos.py\")"
   ]
  },
  {
   "cell_type": "code",
   "execution_count": 48,
   "metadata": {},
   "outputs": [],
   "source": [
    "import time"
   ]
  },
  {
   "cell_type": "code",
   "execution_count": 52,
   "metadata": {},
   "outputs": [
    {
     "data": {
      "text/plain": [
       "time.struct_time(tm_year=2020, tm_mon=5, tm_mday=2, tm_hour=11, tm_min=17, tm_sec=43, tm_wday=5, tm_yday=123, tm_isdst=1)"
      ]
     },
     "execution_count": 52,
     "metadata": {},
     "output_type": "execute_result"
    }
   ],
   "source": [
    "tt = time.localtime(t)\n",
    "tt"
   ]
  },
  {
   "cell_type": "code",
   "execution_count": 55,
   "metadata": {},
   "outputs": [
    {
     "name": "stdout",
     "output_type": "stream",
     "text": [
      "2020 5 2\n"
     ]
    }
   ],
   "source": [
    "print(tt.tm_year, tt.tm_mon, tt.tm_mday)  # -> str"
   ]
  },
  {
   "cell_type": "code",
   "execution_count": 57,
   "metadata": {},
   "outputs": [
    {
     "data": {
      "text/plain": [
       "24"
      ]
     },
     "execution_count": 57,
     "metadata": {},
     "output_type": "execute_result"
    }
   ],
   "source": [
    "st = time.ctime(t)\n",
    "len(st)"
   ]
  },
  {
   "cell_type": "code",
   "execution_count": null,
   "metadata": {},
   "outputs": [],
   "source": []
  }
 ],
 "metadata": {
  "kernelspec": {
   "display_name": "Python 3",
   "language": "python",
   "name": "python3"
  },
  "language_info": {
   "codemirror_mode": {
    "name": "ipython",
    "version": 3
   },
   "file_extension": ".py",
   "mimetype": "text/x-python",
   "name": "python",
   "nbconvert_exporter": "python",
   "pygments_lexer": "ipython3",
   "version": "3.7.4"
  }
 },
 "nbformat": 4,
 "nbformat_minor": 4
}
