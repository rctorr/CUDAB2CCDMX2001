{
 "cells": [
  {
   "cell_type": "markdown",
   "metadata": {},
   "source": [
    "# Diccionarios"
   ]
  },
  {
   "cell_type": "code",
   "execution_count": 2,
   "metadata": {},
   "outputs": [
    {
     "data": {
      "text/plain": [
       "dict"
      ]
     },
     "execution_count": 2,
     "metadata": {},
     "output_type": "execute_result"
    }
   ],
   "source": [
    "d = {}\n",
    "type(d)"
   ]
  },
  {
   "cell_type": "code",
   "execution_count": 3,
   "metadata": {},
   "outputs": [
    {
     "data": {
      "text/plain": [
       "dict"
      ]
     },
     "execution_count": 3,
     "metadata": {},
     "output_type": "execute_result"
    }
   ],
   "source": [
    "d = dict()\n",
    "type(d)"
   ]
  },
  {
   "cell_type": "code",
   "execution_count": 7,
   "metadata": {},
   "outputs": [
    {
     "data": {
      "text/plain": [
       "{'name': 'Ricardo',\n",
       " 'lastname': 'Torres',\n",
       " 'apodos': ['rctorr', 'rictor'],\n",
       " 'edad': 48,\n",
       " 'estatura': 1.73,\n",
       " 'duerme': True,\n",
       " 1: 'licuado',\n",
       " 2: 'fruta',\n",
       " 1.5: 'té'}"
      ]
     },
     "execution_count": 7,
     "metadata": {},
     "output_type": "execute_result"
    }
   ],
   "source": [
    "d = {\n",
    "    \"name\":\"Ricardo\",\n",
    "    \"lastname\":\"Torres\",\n",
    "    \"apodos\":[\"rctorr\", \"rictor\"],\n",
    "    \"edad\": 48,\n",
    "    \"estatura\": 1.73,\n",
    "    \"duerme\": True,\n",
    "    1: \"licuado\",\n",
    "    2: \"fruta\",\n",
    "    1.5: \"té\"\n",
    "}\n",
    "d"
   ]
  },
  {
   "cell_type": "code",
   "execution_count": 11,
   "metadata": {},
   "outputs": [
    {
     "data": {
      "text/plain": [
       "True"
      ]
     },
     "execution_count": 11,
     "metadata": {},
     "output_type": "execute_result"
    }
   ],
   "source": [
    "d[\"duerme\"]"
   ]
  },
  {
   "cell_type": "code",
   "execution_count": 16,
   "metadata": {},
   "outputs": [
    {
     "data": {
      "text/plain": [
       "{'name': 'Ricardo',\n",
       " 'lastname': 'Torres',\n",
       " 'apodos': ['rctorr', 'rictor'],\n",
       " 'edad': 48,\n",
       " 'estatura': 1.73,\n",
       " 'duerme': False,\n",
       " 1: 'licuado',\n",
       " 2: 'fruta',\n",
       " 1.5: 'té'}"
      ]
     },
     "execution_count": 16,
     "metadata": {},
     "output_type": "execute_result"
    }
   ],
   "source": [
    "d[\"duerme\"] = False\n",
    "d"
   ]
  },
  {
   "cell_type": "code",
   "execution_count": 17,
   "metadata": {},
   "outputs": [
    {
     "data": {
      "text/plain": [
       "{'name': 'Ricardo',\n",
       " 'lastname': 'Torres',\n",
       " 'apodos': ['rctorr', 'rictor'],\n",
       " 'edad': 48,\n",
       " 'estatura': 1.73,\n",
       " 'duerme': False,\n",
       " 1: 'licuado',\n",
       " 2: 'fruta',\n",
       " 1.5: 'té',\n",
       " 3: 'enfrijoladas'}"
      ]
     },
     "execution_count": 17,
     "metadata": {},
     "output_type": "execute_result"
    }
   ],
   "source": [
    "d[3]=\"enfrijoladas\"\n",
    "d"
   ]
  },
  {
   "cell_type": "code",
   "execution_count": 19,
   "metadata": {},
   "outputs": [
    {
     "name": "stdout",
     "output_type": "stream",
     "text": [
      "name Ricardo\n",
      "lastname Torres\n",
      "apodos ['rctorr', 'rictor']\n",
      "edad 48\n",
      "estatura 1.73\n",
      "duerme False\n",
      "1 licuado\n",
      "2 fruta\n",
      "1.5 té\n",
      "3 enfrijoladas\n"
     ]
    }
   ],
   "source": [
    "for i in d:\n",
    "    print(i, d[i])"
   ]
  },
  {
   "cell_type": "code",
   "execution_count": 21,
   "metadata": {},
   "outputs": [
    {
     "name": "stdout",
     "output_type": "stream",
     "text": [
      "('name', 'Ricardo') name Ricardo\n",
      "('lastname', 'Torres') lastname Torres\n",
      "('apodos', ['rctorr', 'rictor']) apodos ['rctorr', 'rictor']\n",
      "('edad', 48) edad 48\n",
      "('estatura', 1.73) estatura 1.73\n",
      "('duerme', False) duerme False\n",
      "(1, 'licuado') 1 licuado\n",
      "(2, 'fruta') 2 fruta\n",
      "(1.5, 'té') 1.5 té\n",
      "(3, 'enfrijoladas') 3 enfrijoladas\n"
     ]
    }
   ],
   "source": [
    "for elem in d.items():\n",
    "    print(elem, elem[0], elem[1])"
   ]
  },
  {
   "cell_type": "code",
   "execution_count": null,
   "metadata": {},
   "outputs": [],
   "source": []
  }
 ],
 "metadata": {
  "kernelspec": {
   "display_name": "Python 3",
   "language": "python",
   "name": "python3"
  },
  "language_info": {
   "codemirror_mode": {
    "name": "ipython",
    "version": 3
   },
   "file_extension": ".py",
   "mimetype": "text/x-python",
   "name": "python",
   "nbconvert_exporter": "python",
   "pygments_lexer": "ipython3",
   "version": "3.7.4"
  }
 },
 "nbformat": 4,
 "nbformat_minor": 4
}
