{
 "cells": [
  {
   "cell_type": "markdown",
   "metadata": {},
   "source": [
    "# Cadenas"
   ]
  },
  {
   "cell_type": "code",
   "execution_count": 4,
   "metadata": {},
   "outputs": [
    {
     "data": {
      "text/plain": [
       "\"Armando's Pizza\""
      ]
     },
     "execution_count": 4,
     "metadata": {},
     "output_type": "execute_result"
    }
   ],
   "source": [
    "a = \"hola\"\n",
    "a = 'HOLA'\n",
    "a = \"Armando's Pizza\"\n",
    "a"
   ]
  },
  {
   "cell_type": "code",
   "execution_count": 15,
   "metadata": {},
   "outputs": [
    {
     "name": "stdout",
     "output_type": "stream",
     "text": [
      "150 <class 'int'>\n",
      "150.8 <class 'float'>\n",
      "150 <class 'int'>\n",
      "150\n"
     ]
    }
   ],
   "source": [
    "a = \"150\"  # tipo str\n",
    "b = \"150.8\"  # str\n",
    "c = \"cien\"\n",
    "a = int(a)  # tipo int\n",
    "print(a, type(a))\n",
    "b = float(b)  # str -> float\n",
    "print(b, type(b))\n",
    "# c = int(c)\n",
    "b = int(b)  # float -> int\n",
    "print(b, type(b))\n",
    "print(int(float(\"150.8\")))"
   ]
  },
  {
   "cell_type": "markdown",
   "metadata": {},
   "source": [
    "## RETO:\n",
    "Tomar el valor 150.8 como entero y convertirlo a cadena."
   ]
  },
  {
   "cell_type": "code",
   "execution_count": 16,
   "metadata": {},
   "outputs": [
    {
     "name": "stdout",
     "output_type": "stream",
     "text": [
      "150 <class 'str'>\n"
     ]
    }
   ],
   "source": [
    "decimal = 150.8\n",
    "entero = int(decimal)\n",
    "cadena = str(entero)\n",
    "print(cadena, type(cadena))"
   ]
  },
  {
   "cell_type": "code",
   "execution_count": 18,
   "metadata": {},
   "outputs": [
    {
     "data": {
      "text/plain": [
       "\u001b[0;31mSignature:\u001b[0m \u001b[0mmath\u001b[0m\u001b[0;34m.\u001b[0m\u001b[0msqrt\u001b[0m\u001b[0;34m(\u001b[0m\u001b[0mx\u001b[0m\u001b[0;34m,\u001b[0m \u001b[0;34m/\u001b[0m\u001b[0;34m)\u001b[0m\u001b[0;34m\u001b[0m\u001b[0;34m\u001b[0m\u001b[0m\n",
       "\u001b[0;31mDocstring:\u001b[0m Return the square root of x.\n",
       "\u001b[0;31mType:\u001b[0m      builtin_function_or_method\n"
      ]
     },
     "metadata": {},
     "output_type": "display_data"
    }
   ],
   "source": [
    "import math\n",
    "\n",
    "math.sqrt?"
   ]
  },
  {
   "cell_type": "markdown",
   "metadata": {},
   "source": [
    "## Lectura de datos desde el usuario y formateo de cadenas"
   ]
  },
  {
   "cell_type": "code",
   "execution_count": 20,
   "metadata": {},
   "outputs": [
    {
     "name": "stdin",
     "output_type": "stream",
     "text": [
      "Dame tu nombre: rctorr\n"
     ]
    },
    {
     "data": {
      "text/plain": [
       "'rctorr'"
      ]
     },
     "execution_count": 20,
     "metadata": {},
     "output_type": "execute_result"
    }
   ],
   "source": [
    "nombre = input(\"Dame tu nombre:\")\n",
    "nombre"
   ]
  },
  {
   "cell_type": "code",
   "execution_count": 22,
   "metadata": {},
   "outputs": [
    {
     "name": "stdin",
     "output_type": "stream",
     "text": [
      "Dame tu edad: 48\n"
     ]
    },
    {
     "name": "stdout",
     "output_type": "stream",
     "text": [
      "48 <class 'int'>\n"
     ]
    }
   ],
   "source": [
    "edad = input(\"Dame tu edad:\")\n",
    "edad = int(edad)\n",
    "print(edad, type(edad))"
   ]
  },
  {
   "cell_type": "code",
   "execution_count": 25,
   "metadata": {},
   "outputs": [
    {
     "name": "stdout",
     "output_type": "stream",
     "text": [
      "--------------------\n",
      "|rctorr|48|\n",
      "--------------------\n"
     ]
    }
   ],
   "source": [
    "print(\"-\"*20)\n",
    "print(\"|\" + nombre + \"|\" + str(edad) + \"|\")\n",
    "print(\"-\"*20)"
   ]
  },
  {
   "cell_type": "code",
   "execution_count": 30,
   "metadata": {},
   "outputs": [
    {
     "name": "stdout",
     "output_type": "stream",
     "text": [
      "-------------------------------------\n",
      "|        rctorr        |         48 |\n",
      "-------------------------------------\n"
     ]
    }
   ],
   "source": [
    "print(\"-\"*37)\n",
    "print(\"| {:^20} | {:10} |\".format(nombre, edad))\n",
    "print(\"-\"*37)"
   ]
  },
  {
   "cell_type": "markdown",
   "metadata": {},
   "source": [
    "Para más info sobre formato de cadenas:\n",
    "\n",
    "https://pyformat.info"
   ]
  },
  {
   "cell_type": "markdown",
   "metadata": {},
   "source": [
    "RETO: Imprimir la sigue tabla tal cual respentando el formato.\n",
    "\n",
    "   ´´´\n",
    "   -------------------------------------------------------\n",
    "   ORIGEN               | DESTINO             | TIEMPO    \n",
    "   -------------------------------------------------------\n",
    "   Roma Norte             Tabacalera             15:00\n",
    "   Reforma                Juárez                  8:00\n",
    "   -------------------------------------------------------\n",
    "   ´´´"
   ]
  },
  {
   "cell_type": "code",
   "execution_count": 34,
   "metadata": {},
   "outputs": [
    {
     "name": "stdout",
     "output_type": "stream",
     "text": [
      "----------------------------------------\n",
      "| ORIGEN      |DESTINO     |TIEMPO      |\n",
      "----------------------------------------\n",
      "| ROMA NORTE  |TABACALERA  |       15:00|\n",
      "----------------------------------------\n",
      "| ROMA NORTE  |TABACALERA  |        8:00|\n",
      "----------------------------------------\n"
     ]
    }
   ],
   "source": [
    "print(\"-\"*40)\n",
    "print(\"| {:12}|{:12}|{:12}|\".format(\"ORIGEN\",\"DESTINO\",\"TIEMPO\"))\n",
    "print(\"-\"*40)\n",
    "print(\"| {:12}|{:12}|{:>12}|\".format(\"ROMA NORTE\",\"TABACALERA\",\"15:00\"))\n",
    "print(\"-\"*40)\n",
    "print(\"| {:12}|{:12}|{:>12}|\".format(\"ROMA NORTE\",\"TABACALERA\",\"8:00\"))\n",
    "print(\"-\"*40)"
   ]
  },
  {
   "cell_type": "code",
   "execution_count": 35,
   "metadata": {},
   "outputs": [
    {
     "name": "stdout",
     "output_type": "stream",
     "text": [
      "----------------------------------------------------------------------\n",
      "|        ORIGEN        |       DESTINO        |        TIEMPO        |\n",
      "|      Roma Norte      |      Tabacalera      |                15:00 |\n",
      "|      Roma Norte      |      Tabacalera      |                15:00 |\n",
      "----------------------------------------------------------------------\n"
     ]
    }
   ],
   "source": [
    "titulo1 = \"ORIGEN\"\n",
    "\n",
    "titulo2 = \"DESTINO\"\n",
    "\n",
    "titulo3 = \"TIEMPO\"\n",
    "\n",
    "\n",
    "origen1 = \"Roma Norte\"\n",
    "\n",
    "origen2 = \"Reforma\"\n",
    "\n",
    "\n",
    "destino1 = \"Tabacalera\"\n",
    "\n",
    "destino2 = \"Juarez\"\n",
    "\n",
    "\n",
    "tiempo1 = \"15:00\"\n",
    "\n",
    "tiempo2 = \"8:00\"\n",
    "\n",
    "\n",
    "\n",
    "print(\"-\"*70)\n",
    "\n",
    "print(\"| {:^20} | {:^20} | {:^20} |\".format(titulo1,titulo2,titulo3))\n",
    "\n",
    "print(\"| {:^20} | {:^20} | {:>20} |\".format(origen1,destino1,tiempo1))\n",
    "\n",
    "print(\"| {:^20} | {:^20} | {:>20} |\".format(origen1,destino1,tiempo1))\n",
    "\n",
    "print(\"-\"*70)"
   ]
  },
  {
   "cell_type": "markdown",
   "metadata": {},
   "source": [
    "## Operadores Lógicos"
   ]
  },
  {
   "cell_type": "code",
   "execution_count": 36,
   "metadata": {},
   "outputs": [
    {
     "data": {
      "text/plain": [
       "True"
      ]
     },
     "execution_count": 36,
     "metadata": {},
     "output_type": "execute_result"
    }
   ],
   "source": [
    "True and True"
   ]
  },
  {
   "cell_type": "code",
   "execution_count": 37,
   "metadata": {},
   "outputs": [
    {
     "data": {
      "text/plain": [
       "False"
      ]
     },
     "execution_count": 37,
     "metadata": {},
     "output_type": "execute_result"
    }
   ],
   "source": [
    "True and False"
   ]
  },
  {
   "cell_type": "code",
   "execution_count": 38,
   "metadata": {},
   "outputs": [
    {
     "data": {
      "text/plain": [
       "False"
      ]
     },
     "execution_count": 38,
     "metadata": {},
     "output_type": "execute_result"
    }
   ],
   "source": [
    "False and False"
   ]
  },
  {
   "cell_type": "code",
   "execution_count": 39,
   "metadata": {},
   "outputs": [
    {
     "data": {
      "text/plain": [
       "True"
      ]
     },
     "execution_count": 39,
     "metadata": {},
     "output_type": "execute_result"
    }
   ],
   "source": [
    "False or True"
   ]
  },
  {
   "cell_type": "code",
   "execution_count": 41,
   "metadata": {},
   "outputs": [
    {
     "data": {
      "text/plain": [
       "True"
      ]
     },
     "execution_count": 41,
     "metadata": {},
     "output_type": "execute_result"
    }
   ],
   "source": [
    "not False"
   ]
  },
  {
   "cell_type": "code",
   "execution_count": 43,
   "metadata": {},
   "outputs": [
    {
     "data": {
      "text/plain": [
       "False"
      ]
     },
     "execution_count": 43,
     "metadata": {},
     "output_type": "execute_result"
    }
   ],
   "source": [
    "True ^ True  # xor"
   ]
  },
  {
   "cell_type": "code",
   "execution_count": 44,
   "metadata": {},
   "outputs": [
    {
     "data": {
      "text/plain": [
       "True"
      ]
     },
     "execution_count": 44,
     "metadata": {},
     "output_type": "execute_result"
    }
   ],
   "source": [
    "True ^ False"
   ]
  },
  {
   "cell_type": "markdown",
   "metadata": {},
   "source": [
    "## RETO: Imprimir la tabla de verdad del operador XOR"
   ]
  },
  {
   "cell_type": "code",
   "execution_count": 50,
   "metadata": {},
   "outputs": [
    {
     "name": "stdout",
     "output_type": "stream",
     "text": [
      "--------------------------------\n",
      "A          | B          |A xor B\n",
      "--------------------------------\n",
      "True        True         False\n",
      "True        False        True\n",
      "False       False        False\n",
      "False       True         True\n",
      "--------------------------------\n"
     ]
    }
   ],
   "source": [
    "print (\"-\"*32)\n",
    "print (\"{:10} | {:10} |A xor B\".format(\"A\", \"B\"))\n",
    "print (\"-\"*32)\n",
    "print (\"{:10} {:13} False\".format (\"True\", \" True\"))\n",
    "print (\"{:10} {:13} True\".format (\"True\", \" False\"))\n",
    "print (\"{:10} {:13} False\".format (\"False\", \" False\"))\n",
    "print (\"{:10} {:13} True\".format (\"False\", \" True\"))\n",
    "print (\"-\"*32)"
   ]
  },
  {
   "cell_type": "code",
   "execution_count": 51,
   "metadata": {},
   "outputs": [
    {
     "name": "stdout",
     "output_type": "stream",
     "text": [
      "-------------------------------\n",
      "|    A    |    B    |   XOR   |\n",
      "|    0    |    0    |    0    |\n",
      "|    0    |    1    |    1    |\n",
      "|    1    |    0    |    1    |\n",
      "|    1    |    1    |    1    |\n",
      "-------------------------------\n"
     ]
    }
   ],
   "source": [
    "titulo1 = \"A\"\n",
    "\n",
    "titulo2 = \"B\"\n",
    "\n",
    "titulo3 = \"XOR\"\n",
    "\n",
    "print(\"-\"*31)\n",
    "\n",
    "print(\"| {:^7} | {:^7} | {:^7} |\".format(titulo1,titulo2,titulo3))\n",
    "\n",
    "print(\"| {:^7} | {:^7} | {:^7} |\".format(False,False,False))\n",
    "\n",
    "print(\"| {:^7} | {:^7} | {:^7} |\".format(False,True,True))\n",
    "\n",
    "print(\"| {:^7} | {:^7} | {:^7} |\".format(True,False,True))\n",
    "\n",
    "print(\"| {:^7} | {:^7} | {:^7} |\".format(True,True,True))\n",
    "\n",
    "print(\"-\"*31)\n"
   ]
  },
  {
   "cell_type": "code",
   "execution_count": 53,
   "metadata": {},
   "outputs": [
    {
     "name": "stdout",
     "output_type": "stream",
     "text": [
      "------------------------------------------------------\n",
      "|A                   |B              |A^B            |\n",
      "------------------------------------------------------\n",
      "|                   1|              1|              0|\n",
      "------------------------------------------------------\n",
      "|                   1|              0|              1|\n",
      "------------------------------------------------------\n",
      "|                   0|              1|              1|\n",
      "------------------------------------------------------\n",
      "|                   0|              0|              0|\n",
      "------------------------------------------------------\n"
     ]
    }
   ],
   "source": [
    "print(\"-\"*54)\n",
    "print(\"|{:20}|{:15}|{:15}|\".format(\"A\", \"B\", \"A^B\"))\n",
    "print(\"-\"*54)\n",
    "print(\"|{:20}|{:15}|{:>15}|\".format(True, True, True^True))\n",
    "print(\"-\"*54)\n",
    "print(\"|{:20}|{:15}|{:>15}|\".format(True, False, True^False))\n",
    "print(\"-\"*54)\n",
    "print(\"|{:20}|{:15}|{:>15}|\".format(False, True, False^True))\n",
    "print(\"-\"*54)\n",
    "print(\"|{:20}|{:15}|{:>15}|\".format(False, False, False^False))\n",
    "print(\"-\"*54)"
   ]
  },
  {
   "cell_type": "markdown",
   "metadata": {},
   "source": [
    "## Generando un número aleatorio con Python"
   ]
  },
  {
   "cell_type": "code",
   "execution_count": 46,
   "metadata": {},
   "outputs": [
    {
     "data": {
      "text/plain": [
       "\u001b[0;31mSignature:\u001b[0m \u001b[0mrandom\u001b[0m\u001b[0;34m.\u001b[0m\u001b[0mrandint\u001b[0m\u001b[0;34m(\u001b[0m\u001b[0ma\u001b[0m\u001b[0;34m,\u001b[0m \u001b[0mb\u001b[0m\u001b[0;34m)\u001b[0m\u001b[0;34m\u001b[0m\u001b[0;34m\u001b[0m\u001b[0m\n",
       "\u001b[0;31mDocstring:\u001b[0m\n",
       "Return random integer in range [a, b], including both end points.\n",
       "        \n",
       "\u001b[0;31mFile:\u001b[0m      ~/miniconda3/lib/python3.7/random.py\n",
       "\u001b[0;31mType:\u001b[0m      method\n"
      ]
     },
     "metadata": {},
     "output_type": "display_data"
    }
   ],
   "source": [
    "import random\n",
    "\n",
    "random.randint?"
   ]
  },
  {
   "cell_type": "code",
   "execution_count": 47,
   "metadata": {},
   "outputs": [
    {
     "data": {
      "text/plain": [
       "4"
      ]
     },
     "execution_count": 47,
     "metadata": {},
     "output_type": "execute_result"
    }
   ],
   "source": [
    "random.randint(1, 12)"
   ]
  },
  {
   "cell_type": "code",
   "execution_count": null,
   "metadata": {},
   "outputs": [],
   "source": []
  }
 ],
 "metadata": {
  "kernelspec": {
   "display_name": "Python 3",
   "language": "python",
   "name": "python3"
  },
  "language_info": {
   "codemirror_mode": {
    "name": "ipython",
    "version": 3
   },
   "file_extension": ".py",
   "mimetype": "text/x-python",
   "name": "python",
   "nbconvert_exporter": "python",
   "pygments_lexer": "ipython3",
   "version": "3.7.4"
  }
 },
 "nbformat": 4,
 "nbformat_minor": 4
}
