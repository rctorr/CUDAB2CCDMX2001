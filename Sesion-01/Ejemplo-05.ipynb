{
 "cells": [
  {
   "cell_type": "markdown",
   "metadata": {},
   "source": [
    "# Estructuras de control"
   ]
  },
  {
   "cell_type": "code",
   "execution_count": 9,
   "metadata": {},
   "outputs": [
    {
     "name": "stdout",
     "output_type": "stream",
     "text": [
      "0\n",
      "1\n",
      "2\n",
      "3\n",
      "4\n",
      "5\n",
      "6\n",
      "7\n",
      "8\n",
      "9\n",
      "10\n",
      "11\n",
      "12\n",
      "13\n",
      "14\n",
      "15\n",
      "16\n",
      "17\n",
      "18\n",
      "19\n",
      "20\n",
      "21\n",
      "22\n",
      "23\n",
      "24\n",
      "25\n",
      "26\n",
      "27\n",
      "28\n",
      "29\n",
      "30\n",
      "31\n",
      "32\n",
      "33\n",
      "34\n",
      "35\n",
      "36\n",
      "37\n",
      "38\n",
      "39\n",
      "40\n",
      "41\n",
      "42\n",
      "43\n",
      "44\n",
      "45\n",
      "46\n",
      "47\n",
      "48\n",
      "49\n",
      "50\n",
      "51\n",
      "52\n",
      "53\n",
      "54\n",
      "55\n",
      "56\n",
      "57\n",
      "58\n",
      "59\n",
      "60\n",
      "61\n",
      "62\n",
      "63\n",
      "64\n",
      "65\n",
      "66\n",
      "67\n",
      "68\n",
      "69\n",
      "70\n",
      "71\n",
      "72\n",
      "73\n",
      "74\n",
      "75\n",
      "76\n",
      "77\n",
      "78\n",
      "79\n",
      "80\n",
      "81\n",
      "82\n",
      "83\n",
      "84\n",
      "85\n",
      "86\n",
      "87\n",
      "88\n",
      "89\n",
      "90\n",
      "91\n",
      "92\n",
      "93\n",
      "94\n",
      "95\n",
      "96\n",
      "97\n",
      "98\n",
      "99\n"
     ]
    }
   ],
   "source": [
    "# for(i=0; i<100; i=i+1) { ... }\n",
    "for i in range(0, 100):\n",
    "    print(i)"
   ]
  },
  {
   "cell_type": "markdown",
   "metadata": {},
   "source": [
    "## MINI RETO: Imprimir la lista de todos los número impares en el rango de 0 a 99"
   ]
  },
  {
   "cell_type": "code",
   "execution_count": 7,
   "metadata": {},
   "outputs": [
    {
     "name": "stdout",
     "output_type": "stream",
     "text": [
      "1\n",
      "3\n",
      "5\n",
      "7\n",
      "9\n",
      "11\n",
      "13\n",
      "15\n",
      "17\n",
      "19\n",
      "21\n",
      "23\n",
      "25\n",
      "27\n",
      "29\n",
      "31\n",
      "33\n",
      "35\n",
      "37\n",
      "39\n",
      "41\n",
      "43\n",
      "45\n",
      "47\n",
      "49\n",
      "51\n",
      "53\n",
      "55\n",
      "57\n",
      "59\n",
      "61\n",
      "63\n",
      "65\n",
      "67\n",
      "69\n",
      "71\n",
      "73\n",
      "75\n",
      "77\n",
      "79\n",
      "81\n",
      "83\n",
      "85\n",
      "87\n",
      "89\n",
      "91\n",
      "93\n",
      "95\n",
      "97\n",
      "99\n"
     ]
    }
   ],
   "source": [
    "for i in range(1,100,2):\n",
    "    print(i)  # Solución Pythonesca"
   ]
  },
  {
   "cell_type": "code",
   "execution_count": 10,
   "metadata": {},
   "outputs": [
    {
     "name": "stdout",
     "output_type": "stream",
     "text": [
      "0 0 0\n",
      "1 1 1\n",
      "2 4 8\n",
      "3 9 27\n",
      "4 16 64\n",
      "5 25 125\n",
      "6 36 216\n",
      "7 49 343\n",
      "8 64 512\n",
      "9 81 729\n",
      "10 100 1000\n",
      "11 121 1331\n",
      "12 144 1728\n",
      "13 169 2197\n",
      "14 196 2744\n",
      "15 225 3375\n",
      "16 256 4096\n",
      "17 289 4913\n",
      "18 324 5832\n",
      "19 361 6859\n",
      "20 400 8000\n",
      "21 441 9261\n",
      "22 484 10648\n",
      "23 529 12167\n",
      "24 576 13824\n",
      "25 625 15625\n",
      "26 676 17576\n",
      "27 729 19683\n",
      "28 784 21952\n",
      "29 841 24389\n",
      "30 900 27000\n",
      "31 961 29791\n",
      "32 1024 32768\n",
      "33 1089 35937\n",
      "34 1156 39304\n",
      "35 1225 42875\n",
      "36 1296 46656\n",
      "37 1369 50653\n",
      "38 1444 54872\n",
      "39 1521 59319\n",
      "40 1600 64000\n",
      "41 1681 68921\n",
      "42 1764 74088\n",
      "43 1849 79507\n",
      "44 1936 85184\n",
      "45 2025 91125\n",
      "46 2116 97336\n",
      "47 2209 103823\n",
      "48 2304 110592\n",
      "49 2401 117649\n",
      "50 2500 125000\n",
      "51 2601 132651\n",
      "52 2704 140608\n",
      "53 2809 148877\n",
      "54 2916 157464\n",
      "55 3025 166375\n",
      "56 3136 175616\n",
      "57 3249 185193\n",
      "58 3364 195112\n",
      "59 3481 205379\n",
      "60 3600 216000\n",
      "61 3721 226981\n",
      "62 3844 238328\n",
      "63 3969 250047\n",
      "64 4096 262144\n",
      "65 4225 274625\n",
      "66 4356 287496\n",
      "67 4489 300763\n",
      "68 4624 314432\n",
      "69 4761 328509\n",
      "70 4900 343000\n",
      "71 5041 357911\n",
      "72 5184 373248\n",
      "73 5329 389017\n",
      "74 5476 405224\n",
      "75 5625 421875\n",
      "76 5776 438976\n",
      "77 5929 456533\n",
      "78 6084 474552\n",
      "79 6241 493039\n",
      "80 6400 512000\n",
      "81 6561 531441\n",
      "82 6724 551368\n",
      "83 6889 571787\n",
      "84 7056 592704\n",
      "85 7225 614125\n",
      "86 7396 636056\n",
      "87 7569 658503\n",
      "88 7744 681472\n",
      "89 7921 704969\n",
      "90 8100 729000\n",
      "91 8281 753571\n",
      "92 8464 778688\n",
      "93 8649 804357\n",
      "94 8836 830584\n",
      "95 9025 857375\n",
      "96 9216 884736\n",
      "97 9409 912673\n",
      "98 9604 941192\n",
      "99 9801 970299\n"
     ]
    }
   ],
   "source": [
    "for i in range(0, 100):\n",
    "    print(i, i*i, i**3)"
   ]
  },
  {
   "cell_type": "code",
   "execution_count": 12,
   "metadata": {},
   "outputs": [
    {
     "name": "stdout",
     "output_type": "stream",
     "text": [
      "Estoy en el ciclo while 1\n",
      "Estoy en el ciclo while 2\n",
      "Estoy en el ciclo while 3\n",
      "Estoy en el ciclo while 4\n",
      "Estoy en el ciclo while 5\n",
      "Estoy en el ciclo while 6\n",
      "Estoy en el ciclo while 7\n",
      "Estoy en el ciclo while 8\n",
      "Estoy en el ciclo while 9\n",
      "Estoy en el ciclo while 10\n"
     ]
    }
   ],
   "source": [
    "b = 1\n",
    "while b <= 10:\n",
    "    print(\"Estoy en el ciclo while\", b)\n",
    "    b += 1  # b = b + 1, b++"
   ]
  },
  {
   "cell_type": "code",
   "execution_count": 18,
   "metadata": {},
   "outputs": [
    {
     "ename": "SyntaxError",
     "evalue": "invalid syntax (<ipython-input-18-78bcac6d4834>, line 2)",
     "output_type": "error",
     "traceback": [
      "\u001b[0;36m  File \u001b[0;32m\"<ipython-input-18-78bcac6d4834>\"\u001b[0;36m, line \u001b[0;32m2\u001b[0m\n\u001b[0;31m    if n es un entero:\u001b[0m\n\u001b[0m          ^\u001b[0m\n\u001b[0;31mSyntaxError\u001b[0m\u001b[0;31m:\u001b[0m invalid syntax\n"
     ]
    }
   ],
   "source": [
    "n = \"10m\"\n",
    "if n es un entero:\n",
    "    n = int(n)\n",
    "else:\n",
    "    # omitir el valor o marcarlo como valor inválido\n",
    "    print(n, \"no es un entero\")"
   ]
  },
  {
   "cell_type": "code",
   "execution_count": 24,
   "metadata": {},
   "outputs": [
    {
     "ename": "ValueError",
     "evalue": "invalid literal for int() with base 10: '10m'",
     "output_type": "error",
     "traceback": [
      "\u001b[0;31m---------------------------------------------------------------------------\u001b[0m",
      "\u001b[0;31mValueError\u001b[0m                                Traceback (most recent call last)",
      "\u001b[0;32m<ipython-input-24-1de89d2f19d4>\u001b[0m in \u001b[0;36m<module>\u001b[0;34m\u001b[0m\n\u001b[1;32m      1\u001b[0m \u001b[0mn\u001b[0m \u001b[0;34m=\u001b[0m \u001b[0;34m\"10m\"\u001b[0m\u001b[0;34m\u001b[0m\u001b[0;34m\u001b[0m\u001b[0m\n\u001b[0;32m----> 2\u001b[0;31m \u001b[0mn\u001b[0m \u001b[0;34m=\u001b[0m \u001b[0mint\u001b[0m\u001b[0;34m(\u001b[0m\u001b[0mn\u001b[0m\u001b[0;34m)\u001b[0m\u001b[0;34m\u001b[0m\u001b[0;34m\u001b[0m\u001b[0m\n\u001b[0m\u001b[1;32m      3\u001b[0m \u001b[0mtype\u001b[0m\u001b[0;34m(\u001b[0m\u001b[0mn\u001b[0m\u001b[0;34m)\u001b[0m\u001b[0;34m\u001b[0m\u001b[0;34m\u001b[0m\u001b[0m\n",
      "\u001b[0;31mValueError\u001b[0m: invalid literal for int() with base 10: '10m'"
     ]
    }
   ],
   "source": [
    "n = \"10m\"\n",
    "n = int(n)\n",
    "type(n)"
   ]
  },
  {
   "cell_type": "code",
   "execution_count": 33,
   "metadata": {},
   "outputs": [
    {
     "name": "stdout",
     "output_type": "stream",
     "text": [
      "10 es entero\n"
     ]
    }
   ],
   "source": [
    "n = \"10\"\n",
    "if n.isdigit():\n",
    "    n = int(n)\n",
    "    print(n, \"es entero\")\n",
    "else:\n",
    "    print(n, \"no es un entero\")"
   ]
  },
  {
   "cell_type": "code",
   "execution_count": 32,
   "metadata": {},
   "outputs": [
    {
     "data": {
      "text/plain": [
       "True"
      ]
     },
     "execution_count": 32,
     "metadata": {},
     "output_type": "execute_result"
    }
   ],
   "source": [
    "n = \"10\"\n",
    "n.isdigit()"
   ]
  },
  {
   "cell_type": "markdown",
   "metadata": {},
   "source": [
    "## __RETO:__ Realizar un código en Python para solicitar un número entero al usuario, si el número es un entero, entonces imprimir la lista de los número enteros desde el 1 hasta el número N indicado por el usuario. Si N no es entero entonces solicitar nuevamente el valor al usuario y así hasta infinito."
   ]
  },
  {
   "cell_type": "code",
   "execution_count": null,
   "metadata": {},
   "outputs": [],
   "source": []
  }
 ],
 "metadata": {
  "kernelspec": {
   "display_name": "Python 3",
   "language": "python",
   "name": "python3"
  },
  "language_info": {
   "codemirror_mode": {
    "name": "ipython",
    "version": 3
   },
   "file_extension": ".py",
   "mimetype": "text/x-python",
   "name": "python",
   "nbconvert_exporter": "python",
   "pygments_lexer": "ipython3",
   "version": "3.7.4"
  }
 },
 "nbformat": 4,
 "nbformat_minor": 4
}
