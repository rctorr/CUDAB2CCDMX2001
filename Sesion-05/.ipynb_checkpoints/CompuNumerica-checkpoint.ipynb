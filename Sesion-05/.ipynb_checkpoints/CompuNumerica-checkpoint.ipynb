{
 "cells": [
  {
   "cell_type": "markdown",
   "metadata": {},
   "source": [
    "# Computación numérica"
   ]
  },
  {
   "cell_type": "markdown",
   "metadata": {},
   "source": [
    "### Numpy"
   ]
  },
  {
   "cell_type": "code",
   "execution_count": 28,
   "metadata": {},
   "outputs": [],
   "source": [
    "# pip install numpy\n",
    "import numpy as np"
   ]
  },
  {
   "cell_type": "code",
   "execution_count": 3,
   "metadata": {},
   "outputs": [
    {
     "data": {
      "text/plain": [
       "\u001b[0;31mDocstring:\u001b[0m\n",
       "arange([start,] stop[, step,], dtype=None)\n",
       "\n",
       "Return evenly spaced values within a given interval.\n",
       "\n",
       "Values are generated within the half-open interval ``[start, stop)``\n",
       "(in other words, the interval including `start` but excluding `stop`).\n",
       "For integer arguments the function is equivalent to the Python built-in\n",
       "`range` function, but returns an ndarray rather than a list.\n",
       "\n",
       "When using a non-integer step, such as 0.1, the results will often not\n",
       "be consistent.  It is better to use `numpy.linspace` for these cases.\n",
       "\n",
       "Parameters\n",
       "----------\n",
       "start : number, optional\n",
       "    Start of interval.  The interval includes this value.  The default\n",
       "    start value is 0.\n",
       "stop : number\n",
       "    End of interval.  The interval does not include this value, except\n",
       "    in some cases where `step` is not an integer and floating point\n",
       "    round-off affects the length of `out`.\n",
       "step : number, optional\n",
       "    Spacing between values.  For any output `out`, this is the distance\n",
       "    between two adjacent values, ``out[i+1] - out[i]``.  The default\n",
       "    step size is 1.  If `step` is specified as a position argument,\n",
       "    `start` must also be given.\n",
       "dtype : dtype\n",
       "    The type of the output array.  If `dtype` is not given, infer the data\n",
       "    type from the other input arguments.\n",
       "\n",
       "Returns\n",
       "-------\n",
       "arange : ndarray\n",
       "    Array of evenly spaced values.\n",
       "\n",
       "    For floating point arguments, the length of the result is\n",
       "    ``ceil((stop - start)/step)``.  Because of floating point overflow,\n",
       "    this rule may result in the last element of `out` being greater\n",
       "    than `stop`.\n",
       "\n",
       "See Also\n",
       "--------\n",
       "numpy.linspace : Evenly spaced numbers with careful handling of endpoints.\n",
       "numpy.ogrid: Arrays of evenly spaced numbers in N-dimensions.\n",
       "numpy.mgrid: Grid-shaped arrays of evenly spaced numbers in N-dimensions.\n",
       "\n",
       "Examples\n",
       "--------\n",
       ">>> np.arange(3)\n",
       "array([0, 1, 2])\n",
       ">>> np.arange(3.0)\n",
       "array([ 0.,  1.,  2.])\n",
       ">>> np.arange(3,7)\n",
       "array([3, 4, 5, 6])\n",
       ">>> np.arange(3,7,2)\n",
       "array([3, 5])\n",
       "\u001b[0;31mType:\u001b[0m      builtin_function_or_method\n"
      ]
     },
     "metadata": {},
     "output_type": "display_data"
    }
   ],
   "source": [
    "np.arange?"
   ]
  },
  {
   "cell_type": "code",
   "execution_count": 4,
   "metadata": {},
   "outputs": [
    {
     "data": {
      "text/plain": [
       "\u001b[0;31mSignature:\u001b[0m \u001b[0mnp\u001b[0m\u001b[0;34m.\u001b[0m\u001b[0mfull\u001b[0m\u001b[0;34m(\u001b[0m\u001b[0mshape\u001b[0m\u001b[0;34m,\u001b[0m \u001b[0mfill_value\u001b[0m\u001b[0;34m,\u001b[0m \u001b[0mdtype\u001b[0m\u001b[0;34m=\u001b[0m\u001b[0;32mNone\u001b[0m\u001b[0;34m,\u001b[0m \u001b[0morder\u001b[0m\u001b[0;34m=\u001b[0m\u001b[0;34m'C'\u001b[0m\u001b[0;34m)\u001b[0m\u001b[0;34m\u001b[0m\u001b[0;34m\u001b[0m\u001b[0m\n",
       "\u001b[0;31mDocstring:\u001b[0m\n",
       "Return a new array of given shape and type, filled with `fill_value`.\n",
       "\n",
       "Parameters\n",
       "----------\n",
       "shape : int or sequence of ints\n",
       "    Shape of the new array, e.g., ``(2, 3)`` or ``2``.\n",
       "fill_value : scalar\n",
       "    Fill value.\n",
       "dtype : data-type, optional\n",
       "    The desired data-type for the array  The default, None, means\n",
       "     `np.array(fill_value).dtype`.\n",
       "order : {'C', 'F'}, optional\n",
       "    Whether to store multidimensional data in C- or Fortran-contiguous\n",
       "    (row- or column-wise) order in memory.\n",
       "\n",
       "Returns\n",
       "-------\n",
       "out : ndarray\n",
       "    Array of `fill_value` with the given shape, dtype, and order.\n",
       "\n",
       "See Also\n",
       "--------\n",
       "full_like : Return a new array with shape of input filled with value.\n",
       "empty : Return a new uninitialized array.\n",
       "ones : Return a new array setting values to one.\n",
       "zeros : Return a new array setting values to zero.\n",
       "\n",
       "Examples\n",
       "--------\n",
       ">>> np.full((2, 2), np.inf)\n",
       "array([[inf, inf],\n",
       "       [inf, inf]])\n",
       ">>> np.full((2, 2), 10)\n",
       "array([[10, 10],\n",
       "       [10, 10]])\n",
       "\u001b[0;31mFile:\u001b[0m      ~/miniconda3/lib/python3.7/site-packages/numpy/core/numeric.py\n",
       "\u001b[0;31mType:\u001b[0m      function\n"
      ]
     },
     "metadata": {},
     "output_type": "display_data"
    }
   ],
   "source": [
    "np.full?"
   ]
  },
  {
   "cell_type": "code",
   "execution_count": 6,
   "metadata": {},
   "outputs": [
    {
     "name": "stdout",
     "output_type": "stream",
     "text": [
      "[1 2 3 4 5]\n",
      "<class 'numpy.ndarray'>\n"
     ]
    }
   ],
   "source": [
    "a = np.array([1,2,3,4,5])\n",
    "print(a)\n",
    "print(type(a))"
   ]
  },
  {
   "cell_type": "code",
   "execution_count": 7,
   "metadata": {},
   "outputs": [
    {
     "data": {
      "text/plain": [
       "array([[0, 1, 2],\n",
       "       [3, 4, 5],\n",
       "       [6, 7, 8]])"
      ]
     },
     "execution_count": 7,
     "metadata": {},
     "output_type": "execute_result"
    }
   ],
   "source": [
    "gato = np.arange(9).reshape(3, -1)\n",
    "gato"
   ]
  },
  {
   "cell_type": "code",
   "execution_count": 11,
   "metadata": {},
   "outputs": [
    {
     "data": {
      "text/plain": [
       "4"
      ]
     },
     "execution_count": 11,
     "metadata": {},
     "output_type": "execute_result"
    }
   ],
   "source": [
    "gato[1][1]"
   ]
  },
  {
   "cell_type": "code",
   "execution_count": 12,
   "metadata": {},
   "outputs": [
    {
     "data": {
      "text/plain": [
       "4"
      ]
     },
     "execution_count": 12,
     "metadata": {},
     "output_type": "execute_result"
    }
   ],
   "source": [
    "gato[1,1]"
   ]
  },
  {
   "cell_type": "code",
   "execution_count": 13,
   "metadata": {},
   "outputs": [
    {
     "data": {
      "text/plain": [
       "\u001b[0;31mSignature:\u001b[0m \u001b[0mnp\u001b[0m\u001b[0;34m.\u001b[0m\u001b[0mlinalg\u001b[0m\u001b[0;34m.\u001b[0m\u001b[0msolve\u001b[0m\u001b[0;34m(\u001b[0m\u001b[0ma\u001b[0m\u001b[0;34m,\u001b[0m \u001b[0mb\u001b[0m\u001b[0;34m)\u001b[0m\u001b[0;34m\u001b[0m\u001b[0;34m\u001b[0m\u001b[0m\n",
       "\u001b[0;31mDocstring:\u001b[0m\n",
       "Solve a linear matrix equation, or system of linear scalar equations.\n",
       "\n",
       "Computes the \"exact\" solution, `x`, of the well-determined, i.e., full\n",
       "rank, linear matrix equation `ax = b`.\n",
       "\n",
       "Parameters\n",
       "----------\n",
       "a : (..., M, M) array_like\n",
       "    Coefficient matrix.\n",
       "b : {(..., M,), (..., M, K)}, array_like\n",
       "    Ordinate or \"dependent variable\" values.\n",
       "\n",
       "Returns\n",
       "-------\n",
       "x : {(..., M,), (..., M, K)} ndarray\n",
       "    Solution to the system a x = b.  Returned shape is identical to `b`.\n",
       "\n",
       "Raises\n",
       "------\n",
       "LinAlgError\n",
       "    If `a` is singular or not square.\n",
       "\n",
       "Notes\n",
       "-----\n",
       "\n",
       ".. versionadded:: 1.8.0\n",
       "\n",
       "Broadcasting rules apply, see the `numpy.linalg` documentation for\n",
       "details.\n",
       "\n",
       "The solutions are computed using LAPACK routine ``_gesv``.\n",
       "\n",
       "`a` must be square and of full-rank, i.e., all rows (or, equivalently,\n",
       "columns) must be linearly independent; if either is not true, use\n",
       "`lstsq` for the least-squares best \"solution\" of the\n",
       "system/equation.\n",
       "\n",
       "References\n",
       "----------\n",
       ".. [1] G. Strang, *Linear Algebra and Its Applications*, 2nd Ed., Orlando,\n",
       "       FL, Academic Press, Inc., 1980, pg. 22.\n",
       "\n",
       "Examples\n",
       "--------\n",
       "Solve the system of equations ``3 * x0 + x1 = 9`` and ``x0 + 2 * x1 = 8``:\n",
       "\n",
       ">>> a = np.array([[3,1], [1,2]])\n",
       ">>> b = np.array([9,8])\n",
       ">>> x = np.linalg.solve(a, b)\n",
       ">>> x\n",
       "array([2.,  3.])\n",
       "\n",
       "Check that the solution is correct:\n",
       "\n",
       ">>> np.allclose(np.dot(a, x), b)\n",
       "True\n",
       "\u001b[0;31mFile:\u001b[0m      ~/miniconda3/lib/python3.7/site-packages/numpy/linalg/linalg.py\n",
       "\u001b[0;31mType:\u001b[0m      function\n"
      ]
     },
     "metadata": {},
     "output_type": "display_data"
    }
   ],
   "source": [
    "np.linalg.solve?"
   ]
  },
  {
   "cell_type": "code",
   "execution_count": 14,
   "metadata": {},
   "outputs": [
    {
     "data": {
      "text/plain": [
       "\u001b[0;31mType:\u001b[0m        module\n",
       "\u001b[0;31mString form:\u001b[0m <module 'numpy.linalg' from '/home/rctorr/miniconda3/lib/python3.7/site-packages/numpy/linalg/__init__.py'>\n",
       "\u001b[0;31mFile:\u001b[0m        ~/miniconda3/lib/python3.7/site-packages/numpy/linalg/__init__.py\n",
       "\u001b[0;31mDocstring:\u001b[0m  \n",
       "``numpy.linalg``\n",
       "================\n",
       "\n",
       "The NumPy linear algebra functions rely on BLAS and LAPACK to provide efficient\n",
       "low level implementations of standard linear algebra algorithms. Those\n",
       "libraries may be provided by NumPy itself using C versions of a subset of their\n",
       "reference implementations but, when possible, highly optimized libraries that\n",
       "take advantage of specialized processor functionality are preferred. Examples\n",
       "of such libraries are OpenBLAS, MKL (TM), and ATLAS. Because those libraries\n",
       "are multithreaded and processor dependent, environmental variables and external\n",
       "packages such as threadpoolctl may be needed to control the number of threads\n",
       "or specify the processor architecture.\n",
       "\n",
       "- OpenBLAS: https://www.openblas.net/\n",
       "- threadpoolctl: https://github.com/joblib/threadpoolctl\n",
       "\n",
       "Please note that the most-used linear algebra functions in NumPy are present in\n",
       "the main ``numpy`` namespace rather than in ``numpy.linalg``.  There are:\n",
       "``dot``, ``vdot``, ``inner``, ``outer``, ``matmul``, ``tensordot``, ``einsum``,\n",
       "``einsum_path`` and ``kron``.\n",
       "\n",
       "Functions present in numpy.linalg are listed below.\n",
       "\n",
       "\n",
       "Matrix and vector products\n",
       "--------------------------\n",
       "\n",
       "   multi_dot\n",
       "   matrix_power\n",
       "\n",
       "Decompositions\n",
       "--------------\n",
       "\n",
       "   cholesky\n",
       "   qr\n",
       "   svd\n",
       "\n",
       "Matrix eigenvalues\n",
       "------------------\n",
       "\n",
       "   eig\n",
       "   eigh\n",
       "   eigvals\n",
       "   eigvalsh\n",
       "\n",
       "Norms and other numbers\n",
       "-----------------------\n",
       "\n",
       "   norm\n",
       "   cond\n",
       "   det\n",
       "   matrix_rank\n",
       "   slogdet\n",
       "\n",
       "Solving equations and inverting matrices\n",
       "----------------------------------------\n",
       "\n",
       "   solve\n",
       "   tensorsolve\n",
       "   lstsq\n",
       "   inv\n",
       "   pinv\n",
       "   tensorinv\n",
       "\n",
       "Exceptions\n",
       "----------\n",
       "\n",
       "   LinAlgError\n"
      ]
     },
     "metadata": {},
     "output_type": "display_data"
    }
   ],
   "source": [
    "np.linalg?"
   ]
  },
  {
   "cell_type": "code",
   "execution_count": 15,
   "metadata": {},
   "outputs": [
    {
     "data": {
      "text/plain": [
       "\u001b[0;31mSignature:\u001b[0m \u001b[0mnp\u001b[0m\u001b[0;34m.\u001b[0m\u001b[0mallclose\u001b[0m\u001b[0;34m(\u001b[0m\u001b[0ma\u001b[0m\u001b[0;34m,\u001b[0m \u001b[0mb\u001b[0m\u001b[0;34m,\u001b[0m \u001b[0mrtol\u001b[0m\u001b[0;34m=\u001b[0m\u001b[0;36m1e-05\u001b[0m\u001b[0;34m,\u001b[0m \u001b[0matol\u001b[0m\u001b[0;34m=\u001b[0m\u001b[0;36m1e-08\u001b[0m\u001b[0;34m,\u001b[0m \u001b[0mequal_nan\u001b[0m\u001b[0;34m=\u001b[0m\u001b[0;32mFalse\u001b[0m\u001b[0;34m)\u001b[0m\u001b[0;34m\u001b[0m\u001b[0;34m\u001b[0m\u001b[0m\n",
       "\u001b[0;31mDocstring:\u001b[0m\n",
       "Returns True if two arrays are element-wise equal within a tolerance.\n",
       "\n",
       "The tolerance values are positive, typically very small numbers.  The\n",
       "relative difference (`rtol` * abs(`b`)) and the absolute difference\n",
       "`atol` are added together to compare against the absolute difference\n",
       "between `a` and `b`.\n",
       "\n",
       "NaNs are treated as equal if they are in the same place and if\n",
       "``equal_nan=True``.  Infs are treated as equal if they are in the same\n",
       "place and of the same sign in both arrays.\n",
       "\n",
       "Parameters\n",
       "----------\n",
       "a, b : array_like\n",
       "    Input arrays to compare.\n",
       "rtol : float\n",
       "    The relative tolerance parameter (see Notes).\n",
       "atol : float\n",
       "    The absolute tolerance parameter (see Notes).\n",
       "equal_nan : bool\n",
       "    Whether to compare NaN's as equal.  If True, NaN's in `a` will be\n",
       "    considered equal to NaN's in `b` in the output array.\n",
       "\n",
       "    .. versionadded:: 1.10.0\n",
       "\n",
       "Returns\n",
       "-------\n",
       "allclose : bool\n",
       "    Returns True if the two arrays are equal within the given\n",
       "    tolerance; False otherwise.\n",
       "\n",
       "See Also\n",
       "--------\n",
       "isclose, all, any, equal\n",
       "\n",
       "Notes\n",
       "-----\n",
       "If the following equation is element-wise True, then allclose returns\n",
       "True.\n",
       "\n",
       " absolute(`a` - `b`) <= (`atol` + `rtol` * absolute(`b`))\n",
       "\n",
       "The above equation is not symmetric in `a` and `b`, so that\n",
       "``allclose(a, b)`` might be different from ``allclose(b, a)`` in\n",
       "some rare cases.\n",
       "\n",
       "The comparison of `a` and `b` uses standard broadcasting, which\n",
       "means that `a` and `b` need not have the same shape in order for\n",
       "``allclose(a, b)`` to evaluate to True.  The same is true for\n",
       "`equal` but not `array_equal`.\n",
       "\n",
       "Examples\n",
       "--------\n",
       ">>> np.allclose([1e10,1e-7], [1.00001e10,1e-8])\n",
       "False\n",
       ">>> np.allclose([1e10,1e-8], [1.00001e10,1e-9])\n",
       "True\n",
       ">>> np.allclose([1e10,1e-8], [1.0001e10,1e-9])\n",
       "False\n",
       ">>> np.allclose([1.0, np.nan], [1.0, np.nan])\n",
       "False\n",
       ">>> np.allclose([1.0, np.nan], [1.0, np.nan], equal_nan=True)\n",
       "True\n",
       "\u001b[0;31mFile:\u001b[0m      ~/miniconda3/lib/python3.7/site-packages/numpy/core/numeric.py\n",
       "\u001b[0;31mType:\u001b[0m      function\n"
      ]
     },
     "metadata": {},
     "output_type": "display_data"
    }
   ],
   "source": [
    "np.allclose?"
   ]
  },
  {
   "cell_type": "code",
   "execution_count": 26,
   "metadata": {},
   "outputs": [
    {
     "data": {
      "text/plain": [
       "False"
      ]
     },
     "execution_count": 26,
     "metadata": {},
     "output_type": "execute_result"
    }
   ],
   "source": [
    "0.5 == 0.500001"
   ]
  },
  {
   "cell_type": "code",
   "execution_count": 25,
   "metadata": {},
   "outputs": [
    {
     "data": {
      "text/plain": [
       "True"
      ]
     },
     "execution_count": 25,
     "metadata": {},
     "output_type": "execute_result"
    }
   ],
   "source": [
    "np.allclose([0.5], [0.500001])"
   ]
  },
  {
   "cell_type": "code",
   "execution_count": 27,
   "metadata": {},
   "outputs": [
    {
     "data": {
      "text/plain": [
       "\u001b[0;31mSignature:\u001b[0m\n",
       "\u001b[0mnp\u001b[0m\u001b[0;34m.\u001b[0m\u001b[0msavetxt\u001b[0m\u001b[0;34m(\u001b[0m\u001b[0;34m\u001b[0m\n",
       "\u001b[0;34m\u001b[0m    \u001b[0mfname\u001b[0m\u001b[0;34m,\u001b[0m\u001b[0;34m\u001b[0m\n",
       "\u001b[0;34m\u001b[0m    \u001b[0mX\u001b[0m\u001b[0;34m,\u001b[0m\u001b[0;34m\u001b[0m\n",
       "\u001b[0;34m\u001b[0m    \u001b[0mfmt\u001b[0m\u001b[0;34m=\u001b[0m\u001b[0;34m'%.18e'\u001b[0m\u001b[0;34m,\u001b[0m\u001b[0;34m\u001b[0m\n",
       "\u001b[0;34m\u001b[0m    \u001b[0mdelimiter\u001b[0m\u001b[0;34m=\u001b[0m\u001b[0;34m' '\u001b[0m\u001b[0;34m,\u001b[0m\u001b[0;34m\u001b[0m\n",
       "\u001b[0;34m\u001b[0m    \u001b[0mnewline\u001b[0m\u001b[0;34m=\u001b[0m\u001b[0;34m'\\n'\u001b[0m\u001b[0;34m,\u001b[0m\u001b[0;34m\u001b[0m\n",
       "\u001b[0;34m\u001b[0m    \u001b[0mheader\u001b[0m\u001b[0;34m=\u001b[0m\u001b[0;34m''\u001b[0m\u001b[0;34m,\u001b[0m\u001b[0;34m\u001b[0m\n",
       "\u001b[0;34m\u001b[0m    \u001b[0mfooter\u001b[0m\u001b[0;34m=\u001b[0m\u001b[0;34m''\u001b[0m\u001b[0;34m,\u001b[0m\u001b[0;34m\u001b[0m\n",
       "\u001b[0;34m\u001b[0m    \u001b[0mcomments\u001b[0m\u001b[0;34m=\u001b[0m\u001b[0;34m'# '\u001b[0m\u001b[0;34m,\u001b[0m\u001b[0;34m\u001b[0m\n",
       "\u001b[0;34m\u001b[0m    \u001b[0mencoding\u001b[0m\u001b[0;34m=\u001b[0m\u001b[0;32mNone\u001b[0m\u001b[0;34m,\u001b[0m\u001b[0;34m\u001b[0m\n",
       "\u001b[0;34m\u001b[0m\u001b[0;34m)\u001b[0m\u001b[0;34m\u001b[0m\u001b[0;34m\u001b[0m\u001b[0m\n",
       "\u001b[0;31mDocstring:\u001b[0m\n",
       "Save an array to a text file.\n",
       "\n",
       "Parameters\n",
       "----------\n",
       "fname : filename or file handle\n",
       "    If the filename ends in ``.gz``, the file is automatically saved in\n",
       "    compressed gzip format.  `loadtxt` understands gzipped files\n",
       "    transparently.\n",
       "X : 1D or 2D array_like\n",
       "    Data to be saved to a text file.\n",
       "fmt : str or sequence of strs, optional\n",
       "    A single format (%10.5f), a sequence of formats, or a\n",
       "    multi-format string, e.g. 'Iteration %d -- %10.5f', in which\n",
       "    case `delimiter` is ignored. For complex `X`, the legal options\n",
       "    for `fmt` are:\n",
       "\n",
       "    * a single specifier, `fmt='%.4e'`, resulting in numbers formatted\n",
       "      like `' (%s+%sj)' % (fmt, fmt)`\n",
       "    * a full string specifying every real and imaginary part, e.g.\n",
       "      `' %.4e %+.4ej %.4e %+.4ej %.4e %+.4ej'` for 3 columns\n",
       "    * a list of specifiers, one per column - in this case, the real\n",
       "      and imaginary part must have separate specifiers,\n",
       "      e.g. `['%.3e + %.3ej', '(%.15e%+.15ej)']` for 2 columns\n",
       "delimiter : str, optional\n",
       "    String or character separating columns.\n",
       "newline : str, optional\n",
       "    String or character separating lines.\n",
       "\n",
       "    .. versionadded:: 1.5.0\n",
       "header : str, optional\n",
       "    String that will be written at the beginning of the file.\n",
       "\n",
       "    .. versionadded:: 1.7.0\n",
       "footer : str, optional\n",
       "    String that will be written at the end of the file.\n",
       "\n",
       "    .. versionadded:: 1.7.0\n",
       "comments : str, optional\n",
       "    String that will be prepended to the ``header`` and ``footer`` strings,\n",
       "    to mark them as comments. Default: '# ',  as expected by e.g.\n",
       "    ``numpy.loadtxt``.\n",
       "\n",
       "    .. versionadded:: 1.7.0\n",
       "encoding : {None, str}, optional\n",
       "    Encoding used to encode the outputfile. Does not apply to output\n",
       "    streams. If the encoding is something other than 'bytes' or 'latin1'\n",
       "    you will not be able to load the file in NumPy versions < 1.14. Default\n",
       "    is 'latin1'.\n",
       "\n",
       "    .. versionadded:: 1.14.0\n",
       "\n",
       "\n",
       "See Also\n",
       "--------\n",
       "save : Save an array to a binary file in NumPy ``.npy`` format\n",
       "savez : Save several arrays into an uncompressed ``.npz`` archive\n",
       "savez_compressed : Save several arrays into a compressed ``.npz`` archive\n",
       "\n",
       "Notes\n",
       "-----\n",
       "Further explanation of the `fmt` parameter\n",
       "(``%[flag]width[.precision]specifier``):\n",
       "\n",
       "flags:\n",
       "    ``-`` : left justify\n",
       "\n",
       "    ``+`` : Forces to precede result with + or -.\n",
       "\n",
       "    ``0`` : Left pad the number with zeros instead of space (see width).\n",
       "\n",
       "width:\n",
       "    Minimum number of characters to be printed. The value is not truncated\n",
       "    if it has more characters.\n",
       "\n",
       "precision:\n",
       "    - For integer specifiers (eg. ``d,i,o,x``), the minimum number of\n",
       "      digits.\n",
       "    - For ``e, E`` and ``f`` specifiers, the number of digits to print\n",
       "      after the decimal point.\n",
       "    - For ``g`` and ``G``, the maximum number of significant digits.\n",
       "    - For ``s``, the maximum number of characters.\n",
       "\n",
       "specifiers:\n",
       "    ``c`` : character\n",
       "\n",
       "    ``d`` or ``i`` : signed decimal integer\n",
       "\n",
       "    ``e`` or ``E`` : scientific notation with ``e`` or ``E``.\n",
       "\n",
       "    ``f`` : decimal floating point\n",
       "\n",
       "    ``g,G`` : use the shorter of ``e,E`` or ``f``\n",
       "\n",
       "    ``o`` : signed octal\n",
       "\n",
       "    ``s`` : string of characters\n",
       "\n",
       "    ``u`` : unsigned decimal integer\n",
       "\n",
       "    ``x,X`` : unsigned hexadecimal integer\n",
       "\n",
       "This explanation of ``fmt`` is not complete, for an exhaustive\n",
       "specification see [1]_.\n",
       "\n",
       "References\n",
       "----------\n",
       ".. [1] `Format Specification Mini-Language\n",
       "       <https://docs.python.org/library/string.html#format-specification-mini-language>`_,\n",
       "       Python Documentation.\n",
       "\n",
       "Examples\n",
       "--------\n",
       ">>> x = y = z = np.arange(0.0,5.0,1.0)\n",
       ">>> np.savetxt('test.out', x, delimiter=',')   # X is an array\n",
       ">>> np.savetxt('test.out', (x,y,z))   # x,y,z equal sized 1D arrays\n",
       ">>> np.savetxt('test.out', x, fmt='%1.4e')   # use exponential notation\n",
       "\u001b[0;31mFile:\u001b[0m      ~/miniconda3/lib/python3.7/site-packages/numpy/lib/npyio.py\n",
       "\u001b[0;31mType:\u001b[0m      function\n"
      ]
     },
     "metadata": {},
     "output_type": "display_data"
    }
   ],
   "source": [
    "np.savetxt?"
   ]
  },
  {
   "cell_type": "code",
   "execution_count": null,
   "metadata": {},
   "outputs": [],
   "source": []
  }
 ],
 "metadata": {
  "kernelspec": {
   "display_name": "Python 3",
   "language": "python",
   "name": "python3"
  },
  "language_info": {
   "codemirror_mode": {
    "name": "ipython",
    "version": 3
   },
   "file_extension": ".py",
   "mimetype": "text/x-python",
   "name": "python",
   "nbconvert_exporter": "python",
   "pygments_lexer": "ipython3",
   "version": "3.7.4"
  }
 },
 "nbformat": 4,
 "nbformat_minor": 4
}
